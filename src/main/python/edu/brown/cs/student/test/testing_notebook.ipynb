{
 "cells": [
  {
   "cell_type": "code",
   "execution_count": 1,
   "metadata": {
    "collapsed": true,
    "pycharm": {
     "is_executing": false
    }
   },
   "outputs": [],
   "source": [
    "from main import WebScraper\n",
    "from bs4 import BeautifulSoup as soup  # HTML data structure\n",
    "scraper = WebScraper.WebScraper()"
   ]
  },
  {
   "cell_type": "code",
   "execution_count": 2,
   "outputs": [],
   "source": [
    "url = \"https://www.airbnb.com/s/homes?tab_id=all_tab&refinement_paths%5B%5D=%2Fhomes&query=Paris%2C%20TX&checkin=2020-06\" \\\n",
    "      \"-08&checkout=2020-06-09&adults=1&source=structured_search_input_header&search_type=search_query\"\n",
    "response = scraper.get(url)\n",
    "page_soup = soup(response, \"html.parser\")\n",
    "containers = page_soup.findAll(\"div\")"
   ],
   "metadata": {
    "collapsed": false,
    "pycharm": {
     "name": "#%%\n",
     "is_executing": false
    }
   }
  },
  {
   "cell_type": "code",
   "execution_count": 3,
   "outputs": [],
   "source": [
    "'''\n",
    "Get URL.\n",
    "'''\n",
    "all_stays_div = page_soup.find(\"div\", {\"class\": \"_fhph4u\"}).contents\n",
    "first_stay_div = all_stays_div[0].find(\"div\", {\"class\": \"_gig1e7\"}).find(\"div\", itemprop=\"itemListElement\")\n",
    "url_div = first_stay_div.find(\"meta\", itemprop=\"url\")\n",
    "url = \"airbnb.com\" + url_div[\"content\"].replace(\"undefined\", \"\")"
   ],
   "metadata": {
    "collapsed": false,
    "pycharm": {
     "name": "#%%\n",
     "is_executing": false
    }
   }
  },
  {
   "cell_type": "code",
   "execution_count": 75,
   "outputs": [],
   "source": [
    "'''\n",
    "Get photo\n",
    "'''\n",
    "all_stays_div = page_soup.find(\"div\", {\"class\": \"_fhph4u\"}).contents\n",
    "first_stay_div = all_stays_div[0].find(\"div\", {\"class\": \"_gig1e7\"}).find(\"div\", itemprop=\"itemListElement\")\n",
    "deeper_1 = first_stay_div.find(\"div\", {\"class\" : \"_1nz9l7j\"}).find(\"div\", {\"class\" : \"_2n7voam\"})\n",
    "deeper_2 = deeper_1.find(\"div\", {\"class\" : \"_gjw2an\"}).find(\"div\", {\"class\" : \"_10xjrv2u\"})\n",
    "s = deeper_2['style']\n",
    "parsed_photo_url  = s[s.find('(') + 1 : s.find(')')]\n"
   ],
   "metadata": {
    "collapsed": false,
    "pycharm": {
     "name": "#%%\n",
     "is_executing": false
    }
   }
  },
  {
   "cell_type": "code",
   "execution_count": 41,
   "outputs": [
    {
     "name": "stdout",
     "text": [
      "Light filled airy,cabin style room,with grt. views - null - Greater London\n"
     ],
     "output_type": "stream"
    }
   ],
   "source": [
    "'''\n",
    "Get description\n",
    "'''\n",
    "all_stays_div = page_soup.find(\"div\", {\"class\": \"_fhph4u\"}).contents\n",
    "first_stay_div = all_stays_div[0].find(\"div\", {\"class\": \"_gig1e7\"}).find(\"div\", itemprop=\"itemListElement\")\n",
    "desc_div = first_stay_div.find(\"meta\", itemprop=\"name\")\n",
    "description = desc_div[\"content\"]\n"
   ],
   "metadata": {
    "collapsed": false,
    "pycharm": {
     "name": "#%%\n",
     "is_executing": false
    }
   }
  },
  {
   "cell_type": "code",
   "execution_count": 4,
   "outputs": [
    {
     "traceback": [
      "\u001b[1;31m---------------------------------------------------------------------------\u001b[0m",
      "\u001b[1;31mAttributeError\u001b[0m                            Traceback (most recent call last)",
      "\u001b[1;32m<ipython-input-4-a6f71bd9e5c8>\u001b[0m in \u001b[0;36m<module>\u001b[1;34m\u001b[0m\n\u001b[0;32m      2\u001b[0m \u001b[0mGet\u001b[0m \u001b[0mprice\u001b[0m\u001b[1;33m\u001b[0m\u001b[1;33m\u001b[0m\u001b[0m\n\u001b[0;32m      3\u001b[0m '''\n\u001b[1;32m----> 4\u001b[1;33m \u001b[0mall_stays_div\u001b[0m \u001b[1;33m=\u001b[0m \u001b[0mpage_soup\u001b[0m\u001b[1;33m.\u001b[0m\u001b[0mfind\u001b[0m\u001b[1;33m(\u001b[0m\u001b[1;34m\"div\"\u001b[0m\u001b[1;33m,\u001b[0m \u001b[1;33m{\u001b[0m\u001b[1;34m\"class\"\u001b[0m\u001b[1;33m:\u001b[0m \u001b[1;34m\"_fhph4u\"\u001b[0m\u001b[1;33m}\u001b[0m\u001b[1;33m)\u001b[0m\u001b[1;33m.\u001b[0m\u001b[0mcontents\u001b[0m\u001b[1;33m\u001b[0m\u001b[1;33m\u001b[0m\u001b[0m\n\u001b[0m\u001b[0;32m      5\u001b[0m \u001b[0mfirst_stay_div\u001b[0m \u001b[1;33m=\u001b[0m \u001b[0mall_stays_div\u001b[0m\u001b[1;33m[\u001b[0m\u001b[1;36m0\u001b[0m\u001b[1;33m]\u001b[0m\u001b[1;33m.\u001b[0m\u001b[0mfind\u001b[0m\u001b[1;33m(\u001b[0m\u001b[1;34m\"div\"\u001b[0m\u001b[1;33m,\u001b[0m \u001b[1;33m{\u001b[0m\u001b[1;34m\"class\"\u001b[0m\u001b[1;33m:\u001b[0m \u001b[1;34m\"_gig1e7\"\u001b[0m\u001b[1;33m}\u001b[0m\u001b[1;33m)\u001b[0m\u001b[1;33m.\u001b[0m\u001b[0mfind\u001b[0m\u001b[1;33m(\u001b[0m\u001b[1;34m\"div\"\u001b[0m\u001b[1;33m,\u001b[0m \u001b[0mitemprop\u001b[0m\u001b[1;33m=\u001b[0m\u001b[1;34m\"itemListElement\"\u001b[0m\u001b[1;33m)\u001b[0m\u001b[1;33m\u001b[0m\u001b[1;33m\u001b[0m\u001b[0m\n\u001b[0;32m      6\u001b[0m \u001b[0mwow\u001b[0m \u001b[1;33m=\u001b[0m \u001b[0mfirst_stay_div\u001b[0m\u001b[1;33m.\u001b[0m\u001b[0mfind\u001b[0m\u001b[1;33m(\u001b[0m\u001b[1;34m\"div\"\u001b[0m\u001b[1;33m,\u001b[0m \u001b[1;33m{\u001b[0m\u001b[1;34m\"class\"\u001b[0m \u001b[1;33m:\u001b[0m \u001b[1;34m\"_tmwq9g\"\u001b[0m\u001b[1;33m}\u001b[0m\u001b[1;33m)\u001b[0m\u001b[1;33m.\u001b[0m\u001b[0mfind\u001b[0m\u001b[1;33m(\u001b[0m\u001b[1;34m\"div\"\u001b[0m\u001b[1;33m,\u001b[0m \u001b[1;33m{\u001b[0m\u001b[1;34m\"class\"\u001b[0m \u001b[1;33m:\u001b[0m \u001b[1;34m\"_1bbeetd\"\u001b[0m\u001b[1;33m}\u001b[0m\u001b[1;33m)\u001b[0m\u001b[1;33m\u001b[0m\u001b[1;33m\u001b[0m\u001b[0m\n",
      "\u001b[1;31mAttributeError\u001b[0m: 'NoneType' object has no attribute 'contents'"
     ],
     "ename": "AttributeError",
     "evalue": "'NoneType' object has no attribute 'contents'",
     "output_type": "error"
    }
   ],
   "source": [
    "'''\n",
    "Get price\n",
    "'''\n",
    "all_stays_div = page_soup.find(\"div\", {\"class\": \"_fhph4u\"}).contents\n",
    "first_stay_div = all_stays_div[0].find(\"div\", {\"class\": \"_gig1e7\"}).find(\"div\", itemprop=\"itemListElement\")\n",
    "wow = first_stay_div.find(\"div\", {\"class\" : \"_tmwq9g\"}).find(\"div\", {\"class\" : \"_1bbeetd\"})\n",
    "wow2 = wow.find(\"div\", {\"class\" : \"_ls0e43\"}).find(\"div\", {\"class\" : \"_l2ulkt8\"})\n",
    "wow3 = wow2.find(\"div\", {\"class\" : \"_vsjqit\"})\n",
    "last_idx_of_price = 3\n",
    "price = wow3.find(\"button\", {\"class\" : \"_ebe4pze\"}).text[:last_idx_of_price]"
   ],
   "metadata": {
    "collapsed": false,
    "pycharm": {
     "name": "#%%\n",
     "is_executing": false
    }
   }
  },
  {
   "cell_type": "code",
   "execution_count": 74,
   "outputs": [],
   "source": [
    "'''\n",
    "Get rating\n",
    "'''\n",
    "all_stays_div = page_soup.find(\"div\", {\"class\": \"_fhph4u\"}).contents\n",
    "first_stay_div = all_stays_div[0].find(\"div\", {\"class\": \"_gig1e7\"}).find(\"div\", itemprop=\"itemListElement\")\n",
    "hey = first_stay_div.find(\"div\", {\"class\" : \"_tmwq9g\"}).find(\"div\", {\"class\" : \"_1bbeetd\"})\n",
    "hey2 = hey.find(\"span\", {\"class\" : \"_10fy1f8\"})\n",
    "hey2_text = hey2.text"
   ],
   "metadata": {
    "collapsed": false,
    "pycharm": {
     "name": "#%%\n",
     "is_executing": false
    }
   }
  },
  {
   "cell_type": "code",
   "execution_count": null,
   "outputs": [],
   "source": [
    "no_stays_url = \"https://www.airbnb.com/s/london/homes?tab_id=all_tab&refinement_paths%5B%5D=%2Fhomes&checkin=2020-05-02&checkout\" \\\n",
    "      \"=2020-05-03&adults=1&source=structured_search_input_header&search_type=search_query\"\n",
    "\n"
   ],
   "metadata": {
    "collapsed": false,
    "pycharm": {
     "name": "#%%\n"
    }
   }
  }
 ],
 "metadata": {
  "kernelspec": {
   "display_name": "Python 3",
   "language": "python",
   "name": "python3"
  },
  "language_info": {
   "codemirror_mode": {
    "name": "ipython",
    "version": 2
   },
   "file_extension": ".py",
   "mimetype": "text/x-python",
   "name": "python",
   "nbconvert_exporter": "python",
   "pygments_lexer": "ipython2",
   "version": "2.7.6"
  },
  "pycharm": {
   "stem_cell": {
    "cell_type": "raw",
    "source": [],
    "metadata": {
     "collapsed": false
    }
   }
  }
 },
 "nbformat": 4,
 "nbformat_minor": 0
}